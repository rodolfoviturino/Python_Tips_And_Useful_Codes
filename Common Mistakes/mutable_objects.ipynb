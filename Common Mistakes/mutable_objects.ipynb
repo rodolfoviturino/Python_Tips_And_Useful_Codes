{
 "cells": [
  {
   "cell_type": "markdown",
   "id": "900ff22a",
   "metadata": {},
   "source": [
    "# DO NOT use a mutable object (like a list) as a default argument for a function. I'll start demonstrating this problem by creating a function with a mutable object (empty list)"
   ]
  },
  {
   "cell_type": "code",
   "execution_count": 1,
   "id": "5b0dac48",
   "metadata": {},
   "outputs": [],
   "source": [
    "def add_names_to_agg_list(names, aggregate_list=[]):\n",
    "    for name in names:\n",
    "        aggregate_list.append(name)\n",
    "    return aggregate_list"
   ]
  },
  {
   "cell_type": "markdown",
   "id": "91607d5d",
   "metadata": {},
   "source": [
    "## Now, I will call this function with a list as the parameter. "
   ]
  },
  {
   "cell_type": "code",
   "execution_count": 2,
   "id": "d5753316",
   "metadata": {},
   "outputs": [
    {
     "data": {
      "text/plain": [
       "['Rodolfo', 'Rafael', 'Rodrigo']"
      ]
     },
     "execution_count": 2,
     "metadata": {},
     "output_type": "execute_result"
    }
   ],
   "source": [
    "add_names_to_agg_list(['Rodolfo', 'Rafael', 'Rodrigo'])"
   ]
  },
  {
   "cell_type": "markdown",
   "id": "2022b82f",
   "metadata": {},
   "source": [
    "## No problems by now, it did what we expected. Now I will call the function one more time, exactly the same way as before."
   ]
  },
  {
   "cell_type": "code",
   "execution_count": 3,
   "id": "d256ace9",
   "metadata": {},
   "outputs": [
    {
     "data": {
      "text/plain": [
       "['Rodolfo', 'Rafael', 'Rodrigo', 'Rodolfo', 'Rafael', 'Rodrigo']"
      ]
     },
     "execution_count": 3,
     "metadata": {},
     "output_type": "execute_result"
    }
   ],
   "source": [
    "add_names_to_agg_list(['Rodolfo', 'Rafael', 'Rodrigo'])"
   ]
  },
  {
   "cell_type": "markdown",
   "id": "06dfacce",
   "metadata": {},
   "source": [
    "## Look at what happened now. Most people mistakes this into thinking that it would output the exactly same output as it did before, but now the results are different.\n",
    "\n",
    "## Here is an explanation of what is happening: \n",
    "## When we created an empty list (aggregate_list) in the function, python created a pointer to the memory where this variable is stored. We appended some information into that variable but never reset it, so, it is still loaded in the memory. \n",
    "## When we called the created function for the second time, the function pointed again to THE SAME variable, with the old information still on it, and then appended more information into what it already had. So, be careful when doing this kind of operation."
   ]
  },
  {
   "cell_type": "markdown",
   "id": "44beacb0",
   "metadata": {},
   "source": [
    "# Talking about mutable problems, \"a = a+b\" IS NOT the same as \"a += b\". Well, at least not for mutable objects.\n",
    "## In order to demonstrate this, I will start by explaining the fundamentals of python basics with lists. Fist, I will create a list and then make 2 variables receive this same list."
   ]
  },
  {
   "cell_type": "code",
   "execution_count": 4,
   "id": "fcee08af",
   "metadata": {},
   "outputs": [],
   "source": [
    "my_list1 = [1, 2]\n",
    "my_list2 = my_list1\n",
    "my_list3 = my_list1"
   ]
  },
  {
   "cell_type": "markdown",
   "id": "8e6e7365",
   "metadata": {},
   "source": [
    "## Now, I will change the value of the first index of my_list2 to another random value."
   ]
  },
  {
   "cell_type": "code",
   "execution_count": 5,
   "id": "3098c0d4",
   "metadata": {},
   "outputs": [],
   "source": [
    "my_list2[0] = 777"
   ]
  },
  {
   "cell_type": "markdown",
   "id": "aadf7c66",
   "metadata": {},
   "source": [
    "## Checking what happened to my_list2:"
   ]
  },
  {
   "cell_type": "code",
   "execution_count": 6,
   "id": "52fec89d",
   "metadata": {},
   "outputs": [
    {
     "data": {
      "text/plain": [
       "[777, 2]"
      ]
     },
     "execution_count": 6,
     "metadata": {},
     "output_type": "execute_result"
    }
   ],
   "source": [
    "my_list2"
   ]
  },
  {
   "cell_type": "markdown",
   "id": "9b3412ea",
   "metadata": {},
   "source": [
    "## Great, I successfully changed the value of the first index. Now, it is here that many people that are starting in python (especially those who came from another programming language) fails. Let's check what happened to my_list3. Technically, we did not change anything on it."
   ]
  },
  {
   "cell_type": "code",
   "execution_count": 7,
   "id": "3407359d",
   "metadata": {},
   "outputs": [
    {
     "data": {
      "text/plain": [
       "[777, 2]"
      ]
     },
     "execution_count": 7,
     "metadata": {},
     "output_type": "execute_result"
    }
   ],
   "source": [
    "my_list3"
   ]
  },
  {
   "cell_type": "markdown",
   "id": "0b0f8628",
   "metadata": {},
   "source": [
    "## Whaat? It also changed!!! Yes, and here is the explanation: \n",
    "## Like the problem of using mutable objects as a default value inside a function, python did not make a new copy of that list. Instead, it only created a pointer to the memory address where the information is, and when we changed the value of \"my_list2\", we actually changed the value of that memory address. Consequentially, all the variables that point to the same place will also be changed. I'll show what the variable \"my_list1\" have inside of it now, and you will be able to see that all of the variables are now the same, even though we did not explicitly  told python to change them."
   ]
  },
  {
   "cell_type": "code",
   "execution_count": 8,
   "id": "d9a6eb52",
   "metadata": {},
   "outputs": [
    {
     "data": {
      "text/plain": [
       "[777, 2]"
      ]
     },
     "execution_count": 8,
     "metadata": {},
     "output_type": "execute_result"
    }
   ],
   "source": [
    "my_list1"
   ]
  },
  {
   "cell_type": "markdown",
   "id": "2dee2415",
   "metadata": {},
   "source": [
    "## If we wanted to preserve the characteristics of the variable, we could use the .copy method instead. I will make the same procedures as we did above, but this time with the .copy method, and see what happens."
   ]
  },
  {
   "cell_type": "code",
   "execution_count": 9,
   "id": "055659f3",
   "metadata": {},
   "outputs": [],
   "source": [
    "my_list1 = [1, 2]\n",
    "my_list2 = my_list1.copy()\n",
    "my_list3 = my_list1"
   ]
  },
  {
   "cell_type": "code",
   "execution_count": 10,
   "id": "13cf7236",
   "metadata": {},
   "outputs": [],
   "source": [
    "my_list2[0] = 777"
   ]
  },
  {
   "cell_type": "code",
   "execution_count": 11,
   "id": "fec9a6ff",
   "metadata": {},
   "outputs": [
    {
     "data": {
      "text/plain": [
       "[777, 2]"
      ]
     },
     "execution_count": 11,
     "metadata": {},
     "output_type": "execute_result"
    }
   ],
   "source": [
    "my_list2"
   ]
  },
  {
   "cell_type": "code",
   "execution_count": 12,
   "id": "ddf26d47",
   "metadata": {},
   "outputs": [
    {
     "data": {
      "text/plain": [
       "[1, 2]"
      ]
     },
     "execution_count": 12,
     "metadata": {},
     "output_type": "execute_result"
    }
   ],
   "source": [
    "my_list3"
   ]
  },
  {
   "cell_type": "code",
   "execution_count": 13,
   "id": "64094a8f",
   "metadata": {},
   "outputs": [
    {
     "data": {
      "text/plain": [
       "[1, 2]"
      ]
     },
     "execution_count": 13,
     "metadata": {},
     "output_type": "execute_result"
    }
   ],
   "source": [
    "my_list1"
   ]
  },
  {
   "cell_type": "markdown",
   "id": "aa8301b7",
   "metadata": {},
   "source": [
    "## So, now when changed the value of the first index of \"my_list2\", it did not influence on the other variables, because it is now pointing to a different memory address."
   ]
  },
  {
   "cell_type": "markdown",
   "id": "87f3147a",
   "metadata": {},
   "source": [
    "## Great, I believe you now got the idea of what is happening when working with mutable objects in python. Time to move further and explain the \"+=\" operator."
   ]
  },
  {
   "cell_type": "markdown",
   "id": "ffeb376e",
   "metadata": {},
   "source": [
    "## First, I will create 2 lists, and then make a 3rd variable receive the first list, based on the idea as we did before."
   ]
  },
  {
   "cell_type": "code",
   "execution_count": 14,
   "id": "5bd049f6",
   "metadata": {},
   "outputs": [],
   "source": [
    "my_list1 = [1, 2]\n",
    "my_list2 = [3, 4]\n",
    "my_list3 = my_list1"
   ]
  },
  {
   "cell_type": "markdown",
   "id": "841a4b2e",
   "metadata": {},
   "source": [
    "## Now, I will concatenate both lists with the \"+\" python operator."
   ]
  },
  {
   "cell_type": "code",
   "execution_count": 15,
   "id": "639d84c6",
   "metadata": {},
   "outputs": [
    {
     "data": {
      "text/plain": [
       "[1, 2, 3, 4]"
      ]
     },
     "execution_count": 15,
     "metadata": {},
     "output_type": "execute_result"
    }
   ],
   "source": [
    "my_list1 = my_list1 + my_list2\n",
    "my_list1"
   ]
  },
  {
   "cell_type": "markdown",
   "id": "bbd3eb36",
   "metadata": {},
   "source": [
    "## It concatenated as we expected. Let's now check what is inside of my_list3, because it is pointing  to my_list1, right?"
   ]
  },
  {
   "cell_type": "code",
   "execution_count": 16,
   "id": "0aa95525",
   "metadata": {},
   "outputs": [
    {
     "data": {
      "text/plain": [
       "[1, 2]"
      ]
     },
     "execution_count": 16,
     "metadata": {},
     "output_type": "execute_result"
    }
   ],
   "source": [
    "my_list3"
   ]
  },
  {
   "cell_type": "markdown",
   "id": "a07c4c5d",
   "metadata": {},
   "source": [
    "## The results are different... sooo, what the hell is going on here?\n",
    "## The thing is that this time, when python created this appends with the \"+\" operator, it created a new object, so \"my_list3\" is now pointing to the old \"my_list1\" and \"my_list1\" is now inside a different memory address than it did before. I will explain this better below, but before I do that, I want to show you what happens when we use \"+=\" operator instead of calling the \"+\" operator."
   ]
  },
  {
   "cell_type": "code",
   "execution_count": 17,
   "id": "532e119b",
   "metadata": {},
   "outputs": [],
   "source": [
    "my_list1 = [1, 2]\n",
    "my_list2 = [3, 4]\n",
    "my_list3 = my_list1"
   ]
  },
  {
   "cell_type": "code",
   "execution_count": 18,
   "id": "bd901328",
   "metadata": {},
   "outputs": [
    {
     "data": {
      "text/plain": [
       "[1, 2, 3, 4]"
      ]
     },
     "execution_count": 18,
     "metadata": {},
     "output_type": "execute_result"
    }
   ],
   "source": [
    "my_list1 += my_list2\n",
    "my_list1"
   ]
  },
  {
   "cell_type": "code",
   "execution_count": 19,
   "id": "f0f8e08f",
   "metadata": {},
   "outputs": [
    {
     "data": {
      "text/plain": [
       "[1, 2, 3, 4]"
      ]
     },
     "execution_count": 19,
     "metadata": {},
     "output_type": "execute_result"
    }
   ],
   "source": [
    "my_list3"
   ]
  },
  {
   "cell_type": "markdown",
   "id": "554f842a",
   "metadata": {},
   "source": [
    "## OMG, this time it did not make a copy, but instead it is pointing to the same memory address. Stop, python is not for me!!! Just kidding, python is great, IF YOU KNOW WHAT IS HAPPENING IN ITS BACKEND.\n",
    "## To show you that, I will list what are the attributes that a list object in python has, with the aid of the dir command."
   ]
  },
  {
   "cell_type": "code",
   "execution_count": 20,
   "id": "d1c9e774",
   "metadata": {},
   "outputs": [
    {
     "data": {
      "text/plain": [
       "['__add__',\n",
       " '__class__',\n",
       " '__contains__',\n",
       " '__delattr__',\n",
       " '__delitem__',\n",
       " '__dir__',\n",
       " '__doc__',\n",
       " '__eq__',\n",
       " '__format__',\n",
       " '__ge__',\n",
       " '__getattribute__',\n",
       " '__getitem__',\n",
       " '__gt__',\n",
       " '__hash__',\n",
       " '__iadd__',\n",
       " '__imul__',\n",
       " '__init__',\n",
       " '__init_subclass__',\n",
       " '__iter__',\n",
       " '__le__',\n",
       " '__len__',\n",
       " '__lt__',\n",
       " '__mul__',\n",
       " '__ne__',\n",
       " '__new__',\n",
       " '__reduce__',\n",
       " '__reduce_ex__',\n",
       " '__repr__',\n",
       " '__reversed__',\n",
       " '__rmul__',\n",
       " '__setattr__',\n",
       " '__setitem__',\n",
       " '__sizeof__',\n",
       " '__str__',\n",
       " '__subclasshook__',\n",
       " 'append',\n",
       " 'clear',\n",
       " 'copy',\n",
       " 'count',\n",
       " 'extend',\n",
       " 'index',\n",
       " 'insert',\n",
       " 'pop',\n",
       " 'remove',\n",
       " 'reverse',\n",
       " 'sort']"
      ]
     },
     "execution_count": 20,
     "metadata": {},
     "output_type": "execute_result"
    }
   ],
   "source": [
    "dir(list)"
   ]
  },
  {
   "cell_type": "markdown",
   "id": "5fbc89cc",
   "metadata": {},
   "source": [
    "## Those underscore attributes are backend attributes that python calls when handling methods and functions, you could also use that, although it is not very conventional. Look that we got an \"\\__add__\" and an \"\\__iadd__\" attributes. Let's inspect their help function:"
   ]
  },
  {
   "cell_type": "code",
   "execution_count": 21,
   "id": "8fdaf88b",
   "metadata": {},
   "outputs": [
    {
     "name": "stdout",
     "output_type": "stream",
     "text": [
      "Help on wrapper_descriptor:\n",
      "\n",
      "__add__(self, value, /)\n",
      "    Return self+value.\n",
      "\n"
     ]
    }
   ],
   "source": [
    "help(list.__add__)"
   ]
  },
  {
   "cell_type": "code",
   "execution_count": 22,
   "id": "c3f8d315",
   "metadata": {},
   "outputs": [
    {
     "name": "stdout",
     "output_type": "stream",
     "text": [
      "Help on wrapper_descriptor:\n",
      "\n",
      "__iadd__(self, value, /)\n",
      "    Implement self+=value.\n",
      "\n"
     ]
    }
   ],
   "source": [
    "help(list.__iadd__)"
   ]
  },
  {
   "cell_type": "markdown",
   "id": "7cee07cf",
   "metadata": {},
   "source": [
    "## Ok, we can see that when the \"+\" operator is called, python is using in its backend the \"add\" function, which creates a new (copy) object. And when the \"+=\" operator is called, python is using in its backend the \"iadd\" function, which modifies the object in place rather than creating a new one. So, for mutable objects, NO, a = a+b IS NOT THE SAME AS a += b. This does not happen when working with numbers, though. Let's check why: "
   ]
  },
  {
   "cell_type": "code",
   "execution_count": 23,
   "id": "2116033f",
   "metadata": {},
   "outputs": [
    {
     "data": {
      "text/plain": [
       "['__abs__',\n",
       " '__add__',\n",
       " '__and__',\n",
       " '__bool__',\n",
       " '__ceil__',\n",
       " '__class__',\n",
       " '__delattr__',\n",
       " '__dir__',\n",
       " '__divmod__',\n",
       " '__doc__',\n",
       " '__eq__',\n",
       " '__float__',\n",
       " '__floor__',\n",
       " '__floordiv__',\n",
       " '__format__',\n",
       " '__ge__',\n",
       " '__getattribute__',\n",
       " '__getnewargs__',\n",
       " '__gt__',\n",
       " '__hash__',\n",
       " '__index__',\n",
       " '__init__',\n",
       " '__init_subclass__',\n",
       " '__int__',\n",
       " '__invert__',\n",
       " '__le__',\n",
       " '__lshift__',\n",
       " '__lt__',\n",
       " '__mod__',\n",
       " '__mul__',\n",
       " '__ne__',\n",
       " '__neg__',\n",
       " '__new__',\n",
       " '__or__',\n",
       " '__pos__',\n",
       " '__pow__',\n",
       " '__radd__',\n",
       " '__rand__',\n",
       " '__rdivmod__',\n",
       " '__reduce__',\n",
       " '__reduce_ex__',\n",
       " '__repr__',\n",
       " '__rfloordiv__',\n",
       " '__rlshift__',\n",
       " '__rmod__',\n",
       " '__rmul__',\n",
       " '__ror__',\n",
       " '__round__',\n",
       " '__rpow__',\n",
       " '__rrshift__',\n",
       " '__rshift__',\n",
       " '__rsub__',\n",
       " '__rtruediv__',\n",
       " '__rxor__',\n",
       " '__setattr__',\n",
       " '__sizeof__',\n",
       " '__str__',\n",
       " '__sub__',\n",
       " '__subclasshook__',\n",
       " '__truediv__',\n",
       " '__trunc__',\n",
       " '__xor__',\n",
       " 'as_integer_ratio',\n",
       " 'bit_length',\n",
       " 'conjugate',\n",
       " 'denominator',\n",
       " 'from_bytes',\n",
       " 'imag',\n",
       " 'numerator',\n",
       " 'real',\n",
       " 'to_bytes']"
      ]
     },
     "execution_count": 23,
     "metadata": {},
     "output_type": "execute_result"
    }
   ],
   "source": [
    "dir(int)"
   ]
  },
  {
   "cell_type": "markdown",
   "id": "b95702ba",
   "metadata": {},
   "source": [
    "## In integers (and also floats) we can that there is such a thing as the \"iadd\" attribute, but only the \"add\" one. Hope you understood that."
   ]
  },
  {
   "cell_type": "markdown",
   "id": "9bda3c8d",
   "metadata": {},
   "source": [
    "# Watch for these mistakes, as the numpy library was built on top of python built-ins and inherited its characteristics, as well as pandas library, which was built on top of numpy!!! "
   ]
  }
 ],
 "metadata": {
  "kernelspec": {
   "display_name": "firstEnv",
   "language": "python",
   "name": "firstenv"
  },
  "language_info": {
   "codemirror_mode": {
    "name": "ipython",
    "version": 3
   },
   "file_extension": ".py",
   "mimetype": "text/x-python",
   "name": "python",
   "nbconvert_exporter": "python",
   "pygments_lexer": "ipython3",
   "version": "3.8.10"
  }
 },
 "nbformat": 4,
 "nbformat_minor": 5
}
