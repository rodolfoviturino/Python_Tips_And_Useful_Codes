{
 "cells": [
  {
   "cell_type": "markdown",
   "id": "05bf1c27",
   "metadata": {},
   "source": [
    "# It is better to define default values in dictionaries with the .get() and .setdefault() methods."
   ]
  },
  {
   "cell_type": "code",
   "execution_count": 1,
   "id": "5918302e",
   "metadata": {},
   "outputs": [],
   "source": [
    "my_dict = {\"item\": \"football\",\n",
    "          \"price\": 10.0}"
   ]
  },
  {
   "cell_type": "markdown",
   "id": "96e0cb48",
   "metadata": {},
   "source": [
    "## If, for example, we tried to get a key that does not exist in our dicionary, it will throw a key error. "
   ]
  },
  {
   "cell_type": "code",
   "execution_count": 2,
   "id": "ea0f87c1",
   "metadata": {},
   "outputs": [
    {
     "ename": "KeyError",
     "evalue": "'count'",
     "output_type": "error",
     "traceback": [
      "\u001b[1;31m---------------------------------------------------------------------------\u001b[0m",
      "\u001b[1;31mKeyError\u001b[0m                                  Traceback (most recent call last)",
      "\u001b[1;32m<ipython-input-2-fbfdc9f1ea17>\u001b[0m in \u001b[0;36m<module>\u001b[1;34m\u001b[0m\n\u001b[1;32m----> 1\u001b[1;33m \u001b[0mcount\u001b[0m \u001b[1;33m=\u001b[0m \u001b[0mmy_dict\u001b[0m\u001b[1;33m[\u001b[0m\u001b[1;34m'count'\u001b[0m\u001b[1;33m]\u001b[0m\u001b[1;33m\u001b[0m\u001b[1;33m\u001b[0m\u001b[0m\n\u001b[0m",
      "\u001b[1;31mKeyError\u001b[0m: 'count'"
     ]
    }
   ],
   "source": [
    "count = my_dict['count']"
   ]
  },
  {
   "cell_type": "markdown",
   "id": "c8e8883b",
   "metadata": {},
   "source": [
    "## Instead, use the .get method, which will return \"None\" if the key does not exist otherwise it will return the value: "
   ]
  },
  {
   "cell_type": "code",
   "execution_count": 3,
   "id": "4efff16a",
   "metadata": {},
   "outputs": [
    {
     "name": "stdout",
     "output_type": "stream",
     "text": [
      "None\n"
     ]
    }
   ],
   "source": [
    "count = my_dict.get('count')\n",
    "print(count)"
   ]
  },
  {
   "cell_type": "code",
   "execution_count": 4,
   "id": "f52b6764",
   "metadata": {},
   "outputs": [
    {
     "name": "stdout",
     "output_type": "stream",
     "text": [
      "football\n"
     ]
    }
   ],
   "source": [
    "item = my_dict.get('item')\n",
    "print(item)"
   ]
  },
  {
   "cell_type": "markdown",
   "id": "a3695242",
   "metadata": {},
   "source": [
    "## It is possible to append a value that does not exist to a dictionary using the .setdefault() method:"
   ]
  },
  {
   "cell_type": "code",
   "execution_count": 5,
   "id": "f90f4bee",
   "metadata": {},
   "outputs": [],
   "source": [
    "count = my_dict.setdefault('count', 0)"
   ]
  },
  {
   "cell_type": "code",
   "execution_count": 6,
   "id": "7a60b5b1",
   "metadata": {},
   "outputs": [
    {
     "data": {
      "text/plain": [
       "0"
      ]
     },
     "execution_count": 6,
     "metadata": {},
     "output_type": "execute_result"
    }
   ],
   "source": [
    "count"
   ]
  },
  {
   "cell_type": "code",
   "execution_count": 7,
   "id": "969e97f6",
   "metadata": {},
   "outputs": [
    {
     "data": {
      "text/plain": [
       "{'item': 'football', 'price': 10.0, 'count': 0}"
      ]
     },
     "execution_count": 7,
     "metadata": {},
     "output_type": "execute_result"
    }
   ],
   "source": [
    "my_dict"
   ]
  },
  {
   "cell_type": "markdown",
   "id": "77e0cb40",
   "metadata": {},
   "source": [
    "# Merging dictionaries."
   ]
  },
  {
   "cell_type": "markdown",
   "id": "d128ee54",
   "metadata": {},
   "source": [
    "## Using the .update() method. This updates \"inplace\" the dictionary. If the key values are the same, the last value will be remained. In this case, dict2 will act over dict1"
   ]
  },
  {
   "cell_type": "code",
   "execution_count": 8,
   "id": "ac4f3ff8",
   "metadata": {},
   "outputs": [],
   "source": [
    "dict1 = {'a': 1,\n",
    "         'b': 2}\n",
    "\n",
    "dict2 = {'b': 3,\n",
    "          'c': 4}"
   ]
  },
  {
   "cell_type": "code",
   "execution_count": 9,
   "id": "bfb10621",
   "metadata": {},
   "outputs": [
    {
     "data": {
      "text/plain": [
       "{'a': 1, 'b': 3, 'c': 4}"
      ]
     },
     "execution_count": 9,
     "metadata": {},
     "output_type": "execute_result"
    }
   ],
   "source": [
    "dict1.update(dict2)\n",
    "dict1"
   ]
  },
  {
   "cell_type": "markdown",
   "id": "dcd4c251",
   "metadata": {},
   "source": [
    "## Using the OOP sintax. \n",
    "### Note: available for python 3.5+"
   ]
  },
  {
   "cell_type": "code",
   "execution_count": 10,
   "id": "a7bc6f3f",
   "metadata": {},
   "outputs": [],
   "source": [
    "dict1 = {'a': 1,\n",
    "         'b': 2}\n",
    "\n",
    "dict2 = {'b': 3,\n",
    "          'c': 4}"
   ]
  },
  {
   "cell_type": "code",
   "execution_count": 11,
   "id": "a6b7c9b0",
   "metadata": {},
   "outputs": [
    {
     "data": {
      "text/plain": [
       "{'a': 1, 'b': 3, 'c': 4}"
      ]
     },
     "execution_count": 11,
     "metadata": {},
     "output_type": "execute_result"
    }
   ],
   "source": [
    "dict1 = {**dict1, **dict2}\n",
    "dict1"
   ]
  },
  {
   "cell_type": "markdown",
   "id": "fcf1f4c8",
   "metadata": {},
   "source": [
    "### Note: available for python 3.9+"
   ]
  },
  {
   "cell_type": "code",
   "execution_count": 12,
   "id": "01fa038f",
   "metadata": {},
   "outputs": [],
   "source": [
    "dict1 = {'a': 1,\n",
    "         'b': 2}\n",
    "\n",
    "dict2 = {'b': 3,\n",
    "          'c': 4}"
   ]
  },
  {
   "cell_type": "code",
   "execution_count": 13,
   "id": "d4ecb412",
   "metadata": {},
   "outputs": [
    {
     "ename": "TypeError",
     "evalue": "unsupported operand type(s) for |: 'dict' and 'dict'",
     "output_type": "error",
     "traceback": [
      "\u001b[1;31m---------------------------------------------------------------------------\u001b[0m",
      "\u001b[1;31mTypeError\u001b[0m                                 Traceback (most recent call last)",
      "\u001b[1;32m<ipython-input-13-f4be77aafbf8>\u001b[0m in \u001b[0;36m<module>\u001b[1;34m\u001b[0m\n\u001b[1;32m----> 1\u001b[1;33m \u001b[0mdict1\u001b[0m \u001b[1;33m=\u001b[0m \u001b[0mdict1\u001b[0m \u001b[1;33m|\u001b[0m \u001b[0mdict2\u001b[0m\u001b[1;33m\u001b[0m\u001b[1;33m\u001b[0m\u001b[0m\n\u001b[0m\u001b[0;32m      2\u001b[0m \u001b[0mdict1\u001b[0m\u001b[1;33m\u001b[0m\u001b[1;33m\u001b[0m\u001b[0m\n",
      "\u001b[1;31mTypeError\u001b[0m: unsupported operand type(s) for |: 'dict' and 'dict'"
     ]
    }
   ],
   "source": [
    "dict1 = dict1 | dict2\n",
    "dict1"
   ]
  }
 ],
 "metadata": {
  "kernelspec": {
   "display_name": "firstEnv",
   "language": "python",
   "name": "firstenv"
  },
  "language_info": {
   "codemirror_mode": {
    "name": "ipython",
    "version": 3
   },
   "file_extension": ".py",
   "mimetype": "text/x-python",
   "name": "python",
   "nbconvert_exporter": "python",
   "pygments_lexer": "ipython3",
   "version": "3.8.10"
  }
 },
 "nbformat": 4,
 "nbformat_minor": 5
}
