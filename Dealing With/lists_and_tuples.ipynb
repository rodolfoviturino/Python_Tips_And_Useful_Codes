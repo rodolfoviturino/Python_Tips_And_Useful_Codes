{
 "cells": [
  {
   "cell_type": "markdown",
   "id": "80194278",
   "metadata": {},
   "source": [
    "## If you want to combine a list into a string, use the .join() method. Between the \" \" is the separator you want to use."
   ]
  },
  {
   "cell_type": "code",
   "execution_count": 1,
   "id": "8412f05c",
   "metadata": {},
   "outputs": [],
   "source": [
    "list_of_strings = ['Hello', 'my', 'friend']"
   ]
  },
  {
   "cell_type": "code",
   "execution_count": 2,
   "id": "480ce85a",
   "metadata": {},
   "outputs": [
    {
     "data": {
      "text/plain": [
       "'Hello_._my_._friend'"
      ]
     },
     "execution_count": 2,
     "metadata": {},
     "output_type": "execute_result"
    }
   ],
   "source": [
    "my_string = \"_._\".join(list_of_strings)\n",
    "my_string"
   ]
  },
  {
   "cell_type": "markdown",
   "id": "9333ca26",
   "metadata": {},
   "source": [
    "# Instead of doing this kind of operation to keep track of the position inside a list / tuple, use the enumerate function."
   ]
  },
  {
   "cell_type": "markdown",
   "id": "5743366a",
   "metadata": {},
   "source": [
    "## Bad"
   ]
  },
  {
   "cell_type": "code",
   "execution_count": 3,
   "id": "330be894",
   "metadata": {},
   "outputs": [
    {
     "name": "stdout",
     "output_type": "stream",
     "text": [
      "0 Rodolfo\n",
      "1 Rafael\n",
      "2 Rodrigo\n"
     ]
    }
   ],
   "source": [
    "names = ['Rodolfo', 'Rafael', 'Rodrigo']\n",
    "\n",
    "index = 0\n",
    "for name in names:\n",
    "    print(index, name)\n",
    "    index += 1"
   ]
  },
  {
   "cell_type": "markdown",
   "id": "6cd164ff",
   "metadata": {},
   "source": [
    "## Good"
   ]
  },
  {
   "cell_type": "code",
   "execution_count": 4,
   "id": "dbb342f6",
   "metadata": {},
   "outputs": [
    {
     "name": "stdout",
     "output_type": "stream",
     "text": [
      "0 Rodolfo\n",
      "1 Rafael\n",
      "2 Rodrigo\n"
     ]
    }
   ],
   "source": [
    "names = ['Rodolfo', 'Rafael', 'Rodrigo']\n",
    "\n",
    "for index, name in enumerate(names):\n",
    "    print(index, name)"
   ]
  },
  {
   "cell_type": "markdown",
   "id": "a5bd96e9",
   "metadata": {},
   "source": [
    "## With enumerate we also have control on the index we want to start the printing, for example:"
   ]
  },
  {
   "cell_type": "code",
   "execution_count": 5,
   "id": "acbf20d0",
   "metadata": {},
   "outputs": [
    {
     "name": "stdout",
     "output_type": "stream",
     "text": [
      "5 Rodolfo\n",
      "6 Rafael\n",
      "7 Rodrigo\n"
     ]
    }
   ],
   "source": [
    "names = ['Rodolfo', 'Rafael', 'Rodrigo']\n",
    "\n",
    "for index, name in enumerate(names, start=5):\n",
    "    print(index, name)"
   ]
  },
  {
   "cell_type": "markdown",
   "id": "19486676",
   "metadata": {},
   "source": [
    "# Unpacking elements of a list / tuple. "
   ]
  },
  {
   "cell_type": "markdown",
   "id": "82189f5f",
   "metadata": {},
   "source": [
    "## Let's start by what may cause an error: Different sizes of elements / variables "
   ]
  },
  {
   "cell_type": "markdown",
   "id": "cf1cdb40",
   "metadata": {},
   "source": [
    "### 1 - In this case, we have more variables than elements. "
   ]
  },
  {
   "cell_type": "code",
   "execution_count": 6,
   "id": "bb5c8c59",
   "metadata": {},
   "outputs": [
    {
     "ename": "ValueError",
     "evalue": "not enough values to unpack (expected 3, got 2)",
     "output_type": "error",
     "traceback": [
      "\u001b[1;31m---------------------------------------------------------------------------\u001b[0m",
      "\u001b[1;31mValueError\u001b[0m                                Traceback (most recent call last)",
      "\u001b[1;32m<ipython-input-6-932c29a45966>\u001b[0m in \u001b[0;36m<module>\u001b[1;34m\u001b[0m\n\u001b[1;32m----> 1\u001b[1;33m \u001b[0ma\u001b[0m\u001b[1;33m,\u001b[0m\u001b[0mb\u001b[0m\u001b[1;33m,\u001b[0m\u001b[0mc\u001b[0m \u001b[1;33m=\u001b[0m \u001b[1;33m[\u001b[0m\u001b[1;36m1\u001b[0m\u001b[1;33m,\u001b[0m \u001b[1;36m2\u001b[0m\u001b[1;33m]\u001b[0m\u001b[1;33m\u001b[0m\u001b[1;33m\u001b[0m\u001b[0m\n\u001b[0m",
      "\u001b[1;31mValueError\u001b[0m: not enough values to unpack (expected 3, got 2)"
     ]
    }
   ],
   "source": [
    "a,b,c = [1, 2]"
   ]
  },
  {
   "cell_type": "markdown",
   "id": "d3fd4039",
   "metadata": {},
   "source": [
    "### 2 - Now, we have more elements than variables."
   ]
  },
  {
   "cell_type": "code",
   "execution_count": 7,
   "id": "824c0a8b",
   "metadata": {},
   "outputs": [
    {
     "ename": "ValueError",
     "evalue": "too many values to unpack (expected 3)",
     "output_type": "error",
     "traceback": [
      "\u001b[1;31m---------------------------------------------------------------------------\u001b[0m",
      "\u001b[1;31mValueError\u001b[0m                                Traceback (most recent call last)",
      "\u001b[1;32m<ipython-input-7-8d92ed5a8d9a>\u001b[0m in \u001b[0;36m<module>\u001b[1;34m\u001b[0m\n\u001b[1;32m----> 1\u001b[1;33m \u001b[0ma\u001b[0m\u001b[1;33m,\u001b[0m\u001b[0mb\u001b[0m\u001b[1;33m,\u001b[0m\u001b[0mc\u001b[0m \u001b[1;33m=\u001b[0m \u001b[1;33m[\u001b[0m\u001b[1;36m1\u001b[0m\u001b[1;33m,\u001b[0m \u001b[1;36m2\u001b[0m\u001b[1;33m,\u001b[0m \u001b[1;36m3\u001b[0m\u001b[1;33m,\u001b[0m \u001b[1;36m4\u001b[0m\u001b[1;33m]\u001b[0m\u001b[1;33m\u001b[0m\u001b[1;33m\u001b[0m\u001b[0m\n\u001b[0m",
      "\u001b[1;31mValueError\u001b[0m: too many values to unpack (expected 3)"
     ]
    }
   ],
   "source": [
    "a,b,c = [1, 2, 3, 4]"
   ]
  },
  {
   "cell_type": "markdown",
   "id": "32af06e5",
   "metadata": {},
   "source": [
    "## How to fix them?"
   ]
  },
  {
   "cell_type": "markdown",
   "id": "0ae202a1",
   "metadata": {},
   "source": [
    "### 1 - You may pass the exactly number of variables and elements"
   ]
  },
  {
   "cell_type": "code",
   "execution_count": 8,
   "id": "74a62de3",
   "metadata": {
    "scrolled": true
   },
   "outputs": [
    {
     "name": "stdout",
     "output_type": "stream",
     "text": [
      "a: 1\n",
      "b: 2\n",
      "c: 3\n"
     ]
    }
   ],
   "source": [
    "a, b, c = [1, 2, 3]\n",
    "print(f'a: {a}')\n",
    "print(f'b: {b}')\n",
    "print(f'c: {c}')"
   ]
  },
  {
   "cell_type": "markdown",
   "id": "aa5a2aaa",
   "metadata": {},
   "source": [
    "### But, what if you only wants the element for the variable 'a', and you wont be using the other elements? Then you could use an '_'  as the other variables, and python will understand that."
   ]
  },
  {
   "cell_type": "code",
   "execution_count": 9,
   "id": "3a4c0b86",
   "metadata": {},
   "outputs": [
    {
     "name": "stdout",
     "output_type": "stream",
     "text": [
      "e: 1\n"
     ]
    }
   ],
   "source": [
    "e, _, _ = [1, 2, 3]\n",
    "print(f'e: {e}')"
   ]
  },
  {
   "cell_type": "markdown",
   "id": "b85a0979",
   "metadata": {},
   "source": [
    "### 2 - You could unpack all the elements that comes after a variable was assigned into that element as a list."
   ]
  },
  {
   "cell_type": "code",
   "execution_count": 10,
   "id": "077123a4",
   "metadata": {},
   "outputs": [
    {
     "name": "stdout",
     "output_type": "stream",
     "text": [
      "a: 1\n",
      "b: 2\n",
      "c: [3, 4, 5]\n"
     ]
    }
   ],
   "source": [
    "a, b, *c = [1, 2, 3, 4, 5]\n",
    "print(f'a: {a}')\n",
    "print(f'b: {b}')\n",
    "print(f'c: {c}')"
   ]
  },
  {
   "cell_type": "code",
   "execution_count": 11,
   "id": "5d3d2b35",
   "metadata": {
    "scrolled": true
   },
   "outputs": [
    {
     "data": {
      "text/plain": [
       "list"
      ]
     },
     "execution_count": 11,
     "metadata": {},
     "output_type": "execute_result"
    }
   ],
   "source": [
    "type(c)"
   ]
  },
  {
   "cell_type": "markdown",
   "id": "121f4f2e",
   "metadata": {},
   "source": [
    "### Note that this characteristic of returning a list is not onlt when you use a list. This happens for tuples as well:"
   ]
  },
  {
   "cell_type": "code",
   "execution_count": 12,
   "id": "50ae1abe",
   "metadata": {},
   "outputs": [
    {
     "name": "stdout",
     "output_type": "stream",
     "text": [
      "a: 1\n",
      "b: 2\n",
      "c: [3, 4, 5]\n"
     ]
    }
   ],
   "source": [
    "a, b, *c = (1, 2, 3, 4, 5)\n",
    "print(f'a: {a}')\n",
    "print(f'b: {b}')\n",
    "print(f'c: {c}')"
   ]
  },
  {
   "cell_type": "code",
   "execution_count": 13,
   "id": "ac25ba68",
   "metadata": {},
   "outputs": [
    {
     "data": {
      "text/plain": [
       "list"
      ]
     },
     "execution_count": 13,
     "metadata": {},
     "output_type": "execute_result"
    }
   ],
   "source": [
    "type(c)"
   ]
  },
  {
   "cell_type": "markdown",
   "id": "e6cf911f",
   "metadata": {},
   "source": [
    "### You can also combine the * with the _"
   ]
  },
  {
   "cell_type": "code",
   "execution_count": 14,
   "id": "f530f70c",
   "metadata": {},
   "outputs": [
    {
     "name": "stdout",
     "output_type": "stream",
     "text": [
      "a: 1\n",
      "b: 2\n"
     ]
    }
   ],
   "source": [
    "a, b, *_ = [1, 2, 3, 4, 5]\n",
    "print(f'a: {a}')\n",
    "print(f'b: {b}')"
   ]
  }
 ],
 "metadata": {
  "kernelspec": {
   "display_name": "firstEnv",
   "language": "python",
   "name": "firstenv"
  },
  "language_info": {
   "codemirror_mode": {
    "name": "ipython",
    "version": 3
   },
   "file_extension": ".py",
   "mimetype": "text/x-python",
   "name": "python",
   "nbconvert_exporter": "python",
   "pygments_lexer": "ipython3",
   "version": "3.8.10"
  }
 },
 "nbformat": 4,
 "nbformat_minor": 5
}
