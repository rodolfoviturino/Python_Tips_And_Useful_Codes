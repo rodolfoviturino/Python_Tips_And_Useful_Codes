{
 "cells": [
  {
   "cell_type": "markdown",
   "id": "70121e1d",
   "metadata": {},
   "source": [
    "# Adding a underscore to a number does not change any of its properties, but instead it can make that number much more readable for us humans."
   ]
  },
  {
   "cell_type": "code",
   "execution_count": 1,
   "id": "defc889b",
   "metadata": {},
   "outputs": [
    {
     "data": {
      "text/plain": [
       "10100000000"
      ]
     },
     "execution_count": 1,
     "metadata": {},
     "output_type": "execute_result"
    }
   ],
   "source": [
    "num1 = 10000000000\n",
    "num2 = 100000000\n",
    "total = num1 + num2\n",
    "total"
   ]
  },
  {
   "cell_type": "code",
   "execution_count": 2,
   "id": "2aee946f",
   "metadata": {},
   "outputs": [
    {
     "data": {
      "text/plain": [
       "10100000000"
      ]
     },
     "execution_count": 2,
     "metadata": {},
     "output_type": "execute_result"
    }
   ],
   "source": [
    "num3 = 10_000_000_000 # This is much more readable\n",
    "num4 = 100_000_000\n",
    "total2 = num3 + num4\n",
    "total2"
   ]
  },
  {
   "cell_type": "code",
   "execution_count": 3,
   "id": "60c291a5",
   "metadata": {},
   "outputs": [
    {
     "name": "stdout",
     "output_type": "stream",
     "text": [
      "<class 'int'>\n",
      "<class 'int'>\n"
     ]
    }
   ],
   "source": [
    "print(type(num1))\n",
    "print(type(num3))"
   ]
  },
  {
   "cell_type": "code",
   "execution_count": 4,
   "id": "50ead8bd",
   "metadata": {},
   "outputs": [
    {
     "data": {
      "text/plain": [
       "True"
      ]
     },
     "execution_count": 4,
     "metadata": {},
     "output_type": "execute_result"
    }
   ],
   "source": [
    "num1 == num3"
   ]
  },
  {
   "cell_type": "markdown",
   "id": "a102fd20",
   "metadata": {},
   "source": [
    "## f-strings can also show us large numbers in a more intuitive way: "
   ]
  },
  {
   "cell_type": "code",
   "execution_count": 5,
   "id": "f0e88859",
   "metadata": {},
   "outputs": [
    {
     "name": "stdout",
     "output_type": "stream",
     "text": [
      "10,100,000,000\n"
     ]
    }
   ],
   "source": [
    "print(f'{total:,}')"
   ]
  }
 ],
 "metadata": {
  "kernelspec": {
   "display_name": "firstEnv",
   "language": "python",
   "name": "firstenv"
  },
  "language_info": {
   "codemirror_mode": {
    "name": "ipython",
    "version": 3
   },
   "file_extension": ".py",
   "mimetype": "text/x-python",
   "name": "python",
   "nbconvert_exporter": "python",
   "pygments_lexer": "ipython3",
   "version": "3.8.10"
  }
 },
 "nbformat": 4,
 "nbformat_minor": 5
}
