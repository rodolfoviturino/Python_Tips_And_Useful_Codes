{
 "cells": [
  {
   "cell_type": "markdown",
   "id": "9546d218",
   "metadata": {},
   "source": [
    "# You can inspect the allocated size of memory with the aid of the \"sys\" library.\n",
    "## sys.getsizeof()"
   ]
  },
  {
   "cell_type": "code",
   "execution_count": 1,
   "id": "98980dbc",
   "metadata": {},
   "outputs": [],
   "source": [
    "import sys"
   ]
  },
  {
   "cell_type": "markdown",
   "id": "e7079863",
   "metadata": {},
   "source": [
    "## It is better to use tuples objects instead of lists if your object does not need to be mutable. Check the large difference in the memory usage:\n"
   ]
  },
  {
   "cell_type": "markdown",
   "id": "3b8042c4",
   "metadata": {},
   "source": [
    "### List:"
   ]
  },
  {
   "cell_type": "code",
   "execution_count": 2,
   "id": "091f012b",
   "metadata": {},
   "outputs": [
    {
     "name": "stdout",
     "output_type": "stream",
     "text": [
      "sum: 49995000\n",
      "87616 bytes\n"
     ]
    }
   ],
   "source": [
    "my_list = [i for i in range(10000)]\n",
    "print(f'sum: {sum(my_list)}')\n",
    "print(sys.getsizeof(my_list), 'bytes')"
   ]
  },
  {
   "cell_type": "markdown",
   "id": "f4948ead",
   "metadata": {},
   "source": [
    "### Tuple:"
   ]
  },
  {
   "cell_type": "code",
   "execution_count": 3,
   "id": "256f65ed",
   "metadata": {},
   "outputs": [
    {
     "name": "stdout",
     "output_type": "stream",
     "text": [
      "sum: 49995000\n",
      "112 bytes\n"
     ]
    }
   ],
   "source": [
    "my_gen = (i for i in range(10000))\n",
    "print(f'sum: {sum(my_gen)}')\n",
    "print(sys.getsizeof(my_gen), 'bytes')"
   ]
  }
 ],
 "metadata": {
  "kernelspec": {
   "display_name": "firstEnv",
   "language": "python",
   "name": "firstenv"
  },
  "language_info": {
   "codemirror_mode": {
    "name": "ipython",
    "version": 3
   },
   "file_extension": ".py",
   "mimetype": "text/x-python",
   "name": "python",
   "nbconvert_exporter": "python",
   "pygments_lexer": "ipython3",
   "version": "3.8.10"
  }
 },
 "nbformat": 4,
 "nbformat_minor": 5
}
