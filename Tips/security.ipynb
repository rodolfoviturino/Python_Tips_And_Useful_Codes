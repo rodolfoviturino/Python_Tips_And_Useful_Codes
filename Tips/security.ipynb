{
 "cells": [
  {
   "cell_type": "markdown",
   "id": "9992eac9",
   "metadata": {},
   "source": [
    "# Hidding the logging information with \"getpass\". "
   ]
  },
  {
   "cell_type": "code",
   "execution_count": 1,
   "id": "259d9443",
   "metadata": {},
   "outputs": [],
   "source": [
    "from getpass import getpass"
   ]
  },
  {
   "cell_type": "code",
   "execution_count": 2,
   "id": "9fdcf3be",
   "metadata": {},
   "outputs": [
    {
     "name": "stdout",
     "output_type": "stream",
     "text": [
      "Username: my_username\n",
      "Password: ········\n"
     ]
    }
   ],
   "source": [
    "username = input(\"Username: \")\n",
    "password = getpass(\"Password: \")"
   ]
  },
  {
   "cell_type": "markdown",
   "id": "4ea21d00",
   "metadata": {},
   "source": [
    "## Note that in jupyter you can still access that stored information by accessing the variable (in case you have access to the running program). Watch for that!!!"
   ]
  },
  {
   "cell_type": "code",
   "execution_count": 3,
   "id": "3b8841f3",
   "metadata": {},
   "outputs": [
    {
     "data": {
      "text/plain": [
       "'my_password'"
      ]
     },
     "execution_count": 3,
     "metadata": {},
     "output_type": "execute_result"
    }
   ],
   "source": [
    "password"
   ]
  },
  {
   "cell_type": "code",
   "execution_count": 6,
   "id": "59eecd55",
   "metadata": {},
   "outputs": [
    {
     "ename": "ModuleNotFoundError",
     "evalue": "No module named 'schedule'",
     "output_type": "error",
     "traceback": [
      "\u001b[1;31m---------------------------------------------------------------------------\u001b[0m",
      "\u001b[1;31mModuleNotFoundError\u001b[0m                       Traceback (most recent call last)",
      "\u001b[1;32m<ipython-input-6-d755d921865a>\u001b[0m in \u001b[0;36m<module>\u001b[1;34m\u001b[0m\n\u001b[1;32m----> 1\u001b[1;33m \u001b[1;32mimport\u001b[0m \u001b[0mschedule\u001b[0m\u001b[1;33m\u001b[0m\u001b[1;33m\u001b[0m\u001b[0m\n\u001b[0m",
      "\u001b[1;31mModuleNotFoundError\u001b[0m: No module named 'schedule'"
     ]
    }
   ],
   "source": [
    "import schedule"
   ]
  }
 ],
 "metadata": {
  "kernelspec": {
   "display_name": "firstEnv",
   "language": "python",
   "name": "firstenv"
  },
  "language_info": {
   "codemirror_mode": {
    "name": "ipython",
    "version": 3
   },
   "file_extension": ".py",
   "mimetype": "text/x-python",
   "name": "python",
   "nbconvert_exporter": "python",
   "pygments_lexer": "ipython3",
   "version": "3.8.10"
  }
 },
 "nbformat": 4,
 "nbformat_minor": 5
}
