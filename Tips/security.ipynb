{
 "cells": [
  {
   "cell_type": "markdown",
   "id": "9992eac9",
   "metadata": {},
   "source": [
    "# Hidding the logging information with \"getpass\". "
   ]
  },
  {
   "cell_type": "code",
   "execution_count": 1,
   "id": "259d9443",
   "metadata": {},
   "outputs": [],
   "source": [
    "from getpass import getpass"
   ]
  },
  {
   "cell_type": "code",
   "execution_count": 2,
   "id": "9fdcf3be",
   "metadata": {},
   "outputs": [
    {
     "name": "stdout",
     "output_type": "stream",
     "text": [
      "Username: my_username\n",
      "Password: ········\n"
     ]
    }
   ],
   "source": [
    "username = input(\"Username: \")\n",
    "password = getpass(\"Password: \")"
   ]
  },
  {
   "cell_type": "markdown",
   "id": "4ea21d00",
   "metadata": {},
   "source": [
    "## Note that in jupyter you can still access that stored information by accessing the variable (in case you have access to the running program). Watch for that!!!"
   ]
  },
  {
   "cell_type": "code",
   "execution_count": 3,
   "id": "3b8841f3",
   "metadata": {},
   "outputs": [
    {
     "data": {
      "text/plain": [
       "'my_password'"
      ]
     },
     "execution_count": 3,
     "metadata": {},
     "output_type": "execute_result"
    }
   ],
   "source": [
    "password"
   ]
  }
 ],
 "metadata": {
  "kernelspec": {
   "display_name": "firstEnv",
   "language": "python",
   "name": "firstenv"
  },
  "language_info": {
   "codemirror_mode": {
    "name": "ipython",
    "version": 3
   },
   "file_extension": ".py",
   "mimetype": "text/x-python",
   "name": "python",
   "nbconvert_exporter": "python",
   "pygments_lexer": "ipython3",
   "version": "3.8.10"
  }
 },
 "nbformat": 4,
 "nbformat_minor": 5
}
